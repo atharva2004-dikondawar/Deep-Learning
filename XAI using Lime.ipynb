{
 "cells": [
  {
   "cell_type": "code",
   "execution_count": 1,
   "id": "e72c923c-9277-48ab-9188-7d3056781a1e",
   "metadata": {},
   "outputs": [
    {
     "name": "stdout",
     "output_type": "stream",
     "text": [
      "Requirement already satisfied: lime in c:\\users\\atharva\\anacondas\\envs\\dlenv\\lib\\site-packages (0.2.0.1)\n",
      "Requirement already satisfied: matplotlib in c:\\users\\atharva\\anacondas\\envs\\dlenv\\lib\\site-packages (from lime) (3.7.2)\n",
      "Requirement already satisfied: numpy in c:\\users\\atharva\\anacondas\\envs\\dlenv\\lib\\site-packages (from lime) (1.24.3)\n",
      "Requirement already satisfied: scipy in c:\\users\\atharva\\anacondas\\envs\\dlenv\\lib\\site-packages (from lime) (1.10.1)\n",
      "Requirement already satisfied: tqdm in c:\\users\\atharva\\anacondas\\envs\\dlenv\\lib\\site-packages (from lime) (4.66.5)\n",
      "Requirement already satisfied: scikit-learn>=0.18 in c:\\users\\atharva\\anacondas\\envs\\dlenv\\lib\\site-packages (from lime) (1.3.0)\n",
      "Requirement already satisfied: scikit-image>=0.12 in c:\\users\\atharva\\anacondas\\envs\\dlenv\\lib\\site-packages (from lime) (0.21.0)\n",
      "Requirement already satisfied: networkx>=2.8 in c:\\users\\atharva\\anacondas\\envs\\dlenv\\lib\\site-packages (from scikit-image>=0.12->lime) (3.1)\n",
      "Requirement already satisfied: pillow>=9.0.1 in c:\\users\\atharva\\anacondas\\envs\\dlenv\\lib\\site-packages (from scikit-image>=0.12->lime) (10.4.0)\n",
      "Requirement already satisfied: imageio>=2.27 in c:\\users\\atharva\\anacondas\\envs\\dlenv\\lib\\site-packages (from scikit-image>=0.12->lime) (2.34.2)\n",
      "Requirement already satisfied: tifffile>=2022.8.12 in c:\\users\\atharva\\anacondas\\envs\\dlenv\\lib\\site-packages (from scikit-image>=0.12->lime) (2023.7.10)\n",
      "Requirement already satisfied: PyWavelets>=1.1.1 in c:\\users\\atharva\\anacondas\\envs\\dlenv\\lib\\site-packages (from scikit-image>=0.12->lime) (1.4.1)\n",
      "Requirement already satisfied: packaging>=21 in c:\\users\\atharva\\anacondas\\envs\\dlenv\\lib\\site-packages (from scikit-image>=0.12->lime) (24.1)\n",
      "Requirement already satisfied: lazy_loader>=0.2 in c:\\users\\atharva\\anacondas\\envs\\dlenv\\lib\\site-packages (from scikit-image>=0.12->lime) (0.4)\n",
      "Requirement already satisfied: joblib>=1.1.1 in c:\\users\\atharva\\anacondas\\envs\\dlenv\\lib\\site-packages (from scikit-learn>=0.18->lime) (1.4.2)\n",
      "Requirement already satisfied: threadpoolctl>=2.0.0 in c:\\users\\atharva\\anacondas\\envs\\dlenv\\lib\\site-packages (from scikit-learn>=0.18->lime) (3.5.0)\n",
      "Requirement already satisfied: contourpy>=1.0.1 in c:\\users\\atharva\\anacondas\\envs\\dlenv\\lib\\site-packages (from matplotlib->lime) (1.0.5)\n",
      "Requirement already satisfied: cycler>=0.10 in c:\\users\\atharva\\anacondas\\envs\\dlenv\\lib\\site-packages (from matplotlib->lime) (0.11.0)\n",
      "Requirement already satisfied: fonttools>=4.22.0 in c:\\users\\atharva\\anacondas\\envs\\dlenv\\lib\\site-packages (from matplotlib->lime) (4.51.0)\n",
      "Requirement already satisfied: kiwisolver>=1.0.1 in c:\\users\\atharva\\anacondas\\envs\\dlenv\\lib\\site-packages (from matplotlib->lime) (1.4.4)\n",
      "Requirement already satisfied: pyparsing<3.1,>=2.3.1 in c:\\users\\atharva\\anacondas\\envs\\dlenv\\lib\\site-packages (from matplotlib->lime) (3.0.9)\n",
      "Requirement already satisfied: python-dateutil>=2.7 in c:\\users\\atharva\\anacondas\\envs\\dlenv\\lib\\site-packages (from matplotlib->lime) (2.9.0.post0)\n",
      "Requirement already satisfied: importlib-resources>=3.2.0 in c:\\users\\atharva\\anacondas\\envs\\dlenv\\lib\\site-packages (from matplotlib->lime) (6.4.0)\n",
      "Requirement already satisfied: colorama in c:\\users\\atharva\\anacondas\\envs\\dlenv\\lib\\site-packages (from tqdm->lime) (0.4.6)\n",
      "Requirement already satisfied: zipp>=3.1.0 in c:\\users\\atharva\\anacondas\\envs\\dlenv\\lib\\site-packages (from importlib-resources>=3.2.0->matplotlib->lime) (3.17.0)\n",
      "Requirement already satisfied: six>=1.5 in c:\\users\\atharva\\anacondas\\envs\\dlenv\\lib\\site-packages (from python-dateutil>=2.7->matplotlib->lime) (1.16.0)\n",
      "Note: you may need to restart the kernel to use updated packages.\n"
     ]
    }
   ],
   "source": [
    "pip install lime"
   ]
  },
  {
   "cell_type": "markdown",
   "id": "b14e8110-2b5e-40ae-8b83-a5a4c777b5ef",
   "metadata": {},
   "source": [
    "## Import packages"
   ]
  },
  {
   "cell_type": "code",
   "execution_count": 2,
   "id": "10655a97-a074-4323-9828-a15582ddec1c",
   "metadata": {},
   "outputs": [],
   "source": [
    "import pandas as pd\n",
    "import seaborn as sns\n",
    "import matplotlib.pyplot as plt\n",
    "from sklearn.model_selection import train_test_split\n",
    "from sklearn.pipeline import make_pipeline\n",
    "from lime.lime_text import LimeTextExplainer\n",
    "from sklearn.linear_model import LogisticRegression\n",
    "from sklearn.feature_extraction.text import TfidfVectorizer\n",
    "from collections import OrderedDict"
   ]
  },
  {
   "cell_type": "markdown",
   "id": "b644d8a1-ae8d-4ddf-8483-7cd398be6ae4",
   "metadata": {},
   "source": [
    "## Load Training Data"
   ]
  },
  {
   "cell_type": "code",
   "execution_count": 7,
   "id": "ac6a7bf2-f34b-41d1-9748-01c9b763383f",
   "metadata": {},
   "outputs": [
    {
     "name": "stdout",
     "output_type": "stream",
     "text": [
      "train shape:  (1306122, 3)\n"
     ]
    },
    {
     "data": {
      "text/html": [
       "<div>\n",
       "<style scoped>\n",
       "    .dataframe tbody tr th:only-of-type {\n",
       "        vertical-align: middle;\n",
       "    }\n",
       "\n",
       "    .dataframe tbody tr th {\n",
       "        vertical-align: top;\n",
       "    }\n",
       "\n",
       "    .dataframe thead th {\n",
       "        text-align: right;\n",
       "    }\n",
       "</style>\n",
       "<table border=\"1\" class=\"dataframe\">\n",
       "  <thead>\n",
       "    <tr style=\"text-align: right;\">\n",
       "      <th></th>\n",
       "      <th>qid</th>\n",
       "      <th>question_text</th>\n",
       "      <th>target</th>\n",
       "    </tr>\n",
       "  </thead>\n",
       "  <tbody>\n",
       "    <tr>\n",
       "      <th>0</th>\n",
       "      <td>00002165364db923c7e6</td>\n",
       "      <td>How did Quebec nationalists see their province...</td>\n",
       "      <td>0</td>\n",
       "    </tr>\n",
       "    <tr>\n",
       "      <th>1</th>\n",
       "      <td>000032939017120e6e44</td>\n",
       "      <td>Do you have an adopted dog, how would you enco...</td>\n",
       "      <td>0</td>\n",
       "    </tr>\n",
       "    <tr>\n",
       "      <th>2</th>\n",
       "      <td>0000412ca6e4628ce2cf</td>\n",
       "      <td>Why does velocity affect time? Does velocity a...</td>\n",
       "      <td>0</td>\n",
       "    </tr>\n",
       "    <tr>\n",
       "      <th>3</th>\n",
       "      <td>000042bf85aa498cd78e</td>\n",
       "      <td>How did Otto von Guericke used the Magdeburg h...</td>\n",
       "      <td>0</td>\n",
       "    </tr>\n",
       "    <tr>\n",
       "      <th>4</th>\n",
       "      <td>0000455dfa3e01eae3af</td>\n",
       "      <td>Can I convert montra helicon D to a mountain b...</td>\n",
       "      <td>0</td>\n",
       "    </tr>\n",
       "  </tbody>\n",
       "</table>\n",
       "</div>"
      ],
      "text/plain": [
       "                    qid                                      question_text  \\\n",
       "0  00002165364db923c7e6  How did Quebec nationalists see their province...   \n",
       "1  000032939017120e6e44  Do you have an adopted dog, how would you enco...   \n",
       "2  0000412ca6e4628ce2cf  Why does velocity affect time? Does velocity a...   \n",
       "3  000042bf85aa498cd78e  How did Otto von Guericke used the Magdeburg h...   \n",
       "4  0000455dfa3e01eae3af  Can I convert montra helicon D to a mountain b...   \n",
       "\n",
       "   target  \n",
       "0       0  \n",
       "1       0  \n",
       "2       0  \n",
       "3       0  \n",
       "4       0  "
      ]
     },
     "execution_count": 7,
     "metadata": {},
     "output_type": "execute_result"
    }
   ],
   "source": [
    "train_df = pd.read_csv('train.csv')\n",
    "print('train shape: ',train_df.shape)\n",
    "train_df.head()"
   ]
  },
  {
   "cell_type": "code",
   "execution_count": 12,
   "id": "2c48f874-6636-4c80-a652-3a77b9b9dafa",
   "metadata": {},
   "outputs": [
    {
     "data": {
      "text/plain": [
       "qid              0\n",
       "question_text    0\n",
       "target           0\n",
       "dtype: int64"
      ]
     },
     "execution_count": 12,
     "metadata": {},
     "output_type": "execute_result"
    }
   ],
   "source": [
    "train_df.isna().sum()"
   ]
  },
  {
   "cell_type": "code",
   "execution_count": 13,
   "id": "8c60cdf7-fe71-47d9-b34f-fca06ee4152e",
   "metadata": {},
   "outputs": [
    {
     "name": "stdout",
     "output_type": "stream",
     "text": [
      "(1306122, 3)\n"
     ]
    }
   ],
   "source": [
    "train_df = train_df.dropna()\n",
    "print(train_df.shape)"
   ]
  },
  {
   "cell_type": "code",
   "execution_count": 14,
   "id": "03eeb170-b37b-4f5d-8c13-c4e34a0b754b",
   "metadata": {},
   "outputs": [],
   "source": [
    "# train test split\n",
    "train_df, val_df = train_test_split(train_df, test_size=0.1, random_state=2018)"
   ]
  },
  {
   "cell_type": "code",
   "execution_count": 15,
   "id": "0405e9c7-6b93-4e6c-be64-47d317670076",
   "metadata": {},
   "outputs": [
    {
     "data": {
      "text/html": [
       "<div>\n",
       "<style scoped>\n",
       "    .dataframe tbody tr th:only-of-type {\n",
       "        vertical-align: middle;\n",
       "    }\n",
       "\n",
       "    .dataframe tbody tr th {\n",
       "        vertical-align: top;\n",
       "    }\n",
       "\n",
       "    .dataframe thead th {\n",
       "        text-align: right;\n",
       "    }\n",
       "</style>\n",
       "<table border=\"1\" class=\"dataframe\">\n",
       "  <thead>\n",
       "    <tr style=\"text-align: right;\">\n",
       "      <th></th>\n",
       "      <th>qid</th>\n",
       "      <th>question_text</th>\n",
       "      <th>target</th>\n",
       "    </tr>\n",
       "  </thead>\n",
       "  <tbody>\n",
       "    <tr>\n",
       "      <th>1092525</th>\n",
       "      <td>d61b098340966d9d6501</td>\n",
       "      <td>What is the physical peak a human can achieve?</td>\n",
       "      <td>0</td>\n",
       "    </tr>\n",
       "    <tr>\n",
       "      <th>1024842</th>\n",
       "      <td>c8d5c445fce3c312ca5f</td>\n",
       "      <td>What is the society like in United Kingdom?</td>\n",
       "      <td>0</td>\n",
       "    </tr>\n",
       "    <tr>\n",
       "      <th>742735</th>\n",
       "      <td>9177e73a312fb5ff9e43</td>\n",
       "      <td>How should I deal with flight instructors who ...</td>\n",
       "      <td>0</td>\n",
       "    </tr>\n",
       "    <tr>\n",
       "      <th>163622</th>\n",
       "      <td>1ffecf3a38aa5062f51c</td>\n",
       "      <td>Can you take credit for subconscious acts? And...</td>\n",
       "      <td>0</td>\n",
       "    </tr>\n",
       "    <tr>\n",
       "      <th>1115967</th>\n",
       "      <td>daaea60735fcb5f49b12</td>\n",
       "      <td>What master programs are taught in English in ...</td>\n",
       "      <td>0</td>\n",
       "    </tr>\n",
       "  </tbody>\n",
       "</table>\n",
       "</div>"
      ],
      "text/plain": [
       "                          qid  \\\n",
       "1092525  d61b098340966d9d6501   \n",
       "1024842  c8d5c445fce3c312ca5f   \n",
       "742735   9177e73a312fb5ff9e43   \n",
       "163622   1ffecf3a38aa5062f51c   \n",
       "1115967  daaea60735fcb5f49b12   \n",
       "\n",
       "                                             question_text  target  \n",
       "1092525     What is the physical peak a human can achieve?       0  \n",
       "1024842        What is the society like in United Kingdom?       0  \n",
       "742735   How should I deal with flight instructors who ...       0  \n",
       "163622   Can you take credit for subconscious acts? And...       0  \n",
       "1115967  What master programs are taught in English in ...       0  "
      ]
     },
     "execution_count": 15,
     "metadata": {},
     "output_type": "execute_result"
    }
   ],
   "source": [
    "val_df.head()"
   ]
  },
  {
   "cell_type": "code",
   "execution_count": 16,
   "id": "2c29c86c-7be0-44ba-b882-c922cc77c5f7",
   "metadata": {},
   "outputs": [],
   "source": [
    "df_select = pd.concat([val_df[val_df['qid'] == 'd61b098340966d9d6501'],val_df[val_df['qid'] == 'c8d5c445fce3c312ca5f']])"
   ]
  },
  {
   "cell_type": "code",
   "execution_count": 17,
   "id": "f0a6b7f6-071f-4064-bfa6-1e0c10c5e51c",
   "metadata": {},
   "outputs": [
    {
     "data": {
      "text/html": [
       "<div>\n",
       "<style scoped>\n",
       "    .dataframe tbody tr th:only-of-type {\n",
       "        vertical-align: middle;\n",
       "    }\n",
       "\n",
       "    .dataframe tbody tr th {\n",
       "        vertical-align: top;\n",
       "    }\n",
       "\n",
       "    .dataframe thead th {\n",
       "        text-align: right;\n",
       "    }\n",
       "</style>\n",
       "<table border=\"1\" class=\"dataframe\">\n",
       "  <thead>\n",
       "    <tr style=\"text-align: right;\">\n",
       "      <th></th>\n",
       "      <th>qid</th>\n",
       "      <th>question_text</th>\n",
       "      <th>target</th>\n",
       "    </tr>\n",
       "  </thead>\n",
       "  <tbody>\n",
       "    <tr>\n",
       "      <th>1092525</th>\n",
       "      <td>d61b098340966d9d6501</td>\n",
       "      <td>What is the physical peak a human can achieve?</td>\n",
       "      <td>0</td>\n",
       "    </tr>\n",
       "    <tr>\n",
       "      <th>1024842</th>\n",
       "      <td>c8d5c445fce3c312ca5f</td>\n",
       "      <td>What is the society like in United Kingdom?</td>\n",
       "      <td>0</td>\n",
       "    </tr>\n",
       "  </tbody>\n",
       "</table>\n",
       "</div>"
      ],
      "text/plain": [
       "                          qid                                   question_text  \\\n",
       "1092525  d61b098340966d9d6501  What is the physical peak a human can achieve?   \n",
       "1024842  c8d5c445fce3c312ca5f     What is the society like in United Kingdom?   \n",
       "\n",
       "         target  \n",
       "1092525       0  \n",
       "1024842       0  "
      ]
     },
     "execution_count": 17,
     "metadata": {},
     "output_type": "execute_result"
    }
   ],
   "source": [
    "df_select"
   ]
  },
  {
   "cell_type": "code",
   "execution_count": 18,
   "id": "b54bd017-d2af-44ce-9e5c-b2e1c18ce4d9",
   "metadata": {},
   "outputs": [
    {
     "data": {
      "text/plain": [
       "1092525    What is the physical peak a human can achieve?\n",
       "1024842       What is the society like in United Kingdom?\n",
       "Name: question_text, dtype: object"
      ]
     },
     "execution_count": 18,
     "metadata": {},
     "output_type": "execute_result"
    }
   ],
   "source": [
    "df_select.question_text"
   ]
  },
  {
   "cell_type": "code",
   "execution_count": 20,
   "id": "bb05becf-5079-4e3f-bbe4-b5134daa55b6",
   "metadata": {},
   "outputs": [
    {
     "data": {
      "text/html": [
       "<div>\n",
       "<style scoped>\n",
       "    .dataframe tbody tr th:only-of-type {\n",
       "        vertical-align: middle;\n",
       "    }\n",
       "\n",
       "    .dataframe tbody tr th {\n",
       "        vertical-align: top;\n",
       "    }\n",
       "\n",
       "    .dataframe thead th {\n",
       "        text-align: right;\n",
       "    }\n",
       "</style>\n",
       "<table border=\"1\" class=\"dataframe\">\n",
       "  <thead>\n",
       "    <tr style=\"text-align: right;\">\n",
       "      <th></th>\n",
       "      <th>qid</th>\n",
       "      <th>question_text</th>\n",
       "      <th>target</th>\n",
       "    </tr>\n",
       "  </thead>\n",
       "  <tbody>\n",
       "    <tr>\n",
       "      <th>0</th>\n",
       "      <td>d61b098340966d9d6501</td>\n",
       "      <td>What is the physical peak a human can achieve?</td>\n",
       "      <td>0</td>\n",
       "    </tr>\n",
       "    <tr>\n",
       "      <th>1</th>\n",
       "      <td>c8d5c445fce3c312ca5f</td>\n",
       "      <td>What is the society like in United Kingdom?</td>\n",
       "      <td>0</td>\n",
       "    </tr>\n",
       "    <tr>\n",
       "      <th>2</th>\n",
       "      <td>9177e73a312fb5ff9e43</td>\n",
       "      <td>How should I deal with flight instructors who ...</td>\n",
       "      <td>0</td>\n",
       "    </tr>\n",
       "    <tr>\n",
       "      <th>3</th>\n",
       "      <td>1ffecf3a38aa5062f51c</td>\n",
       "      <td>Can you take credit for subconscious acts? And...</td>\n",
       "      <td>0</td>\n",
       "    </tr>\n",
       "    <tr>\n",
       "      <th>4</th>\n",
       "      <td>daaea60735fcb5f49b12</td>\n",
       "      <td>What master programs are taught in English in ...</td>\n",
       "      <td>0</td>\n",
       "    </tr>\n",
       "    <tr>\n",
       "      <th>...</th>\n",
       "      <td>...</td>\n",
       "      <td>...</td>\n",
       "      <td>...</td>\n",
       "    </tr>\n",
       "    <tr>\n",
       "      <th>130608</th>\n",
       "      <td>feb0053f32eda8483c9f</td>\n",
       "      <td>How do you define a great spectacle?</td>\n",
       "      <td>0</td>\n",
       "    </tr>\n",
       "    <tr>\n",
       "      <th>130609</th>\n",
       "      <td>be7afe3c3888bdaf322f</td>\n",
       "      <td>When will Quora stop so many utterly stupid qu...</td>\n",
       "      <td>1</td>\n",
       "    </tr>\n",
       "    <tr>\n",
       "      <th>130610</th>\n",
       "      <td>b0bf236fb7298811f4f6</td>\n",
       "      <td>When did commercial jets start using autopilot?</td>\n",
       "      <td>0</td>\n",
       "    </tr>\n",
       "    <tr>\n",
       "      <th>130611</th>\n",
       "      <td>4ded8f8f0a7d662bc43e</td>\n",
       "      <td>How many hate comments have you received?</td>\n",
       "      <td>0</td>\n",
       "    </tr>\n",
       "    <tr>\n",
       "      <th>130612</th>\n",
       "      <td>64f7c824cc2e2363c8c2</td>\n",
       "      <td>What is meant by formatting?</td>\n",
       "      <td>0</td>\n",
       "    </tr>\n",
       "  </tbody>\n",
       "</table>\n",
       "<p>130613 rows × 3 columns</p>\n",
       "</div>"
      ],
      "text/plain": [
       "                         qid  \\\n",
       "0       d61b098340966d9d6501   \n",
       "1       c8d5c445fce3c312ca5f   \n",
       "2       9177e73a312fb5ff9e43   \n",
       "3       1ffecf3a38aa5062f51c   \n",
       "4       daaea60735fcb5f49b12   \n",
       "...                      ...   \n",
       "130608  feb0053f32eda8483c9f   \n",
       "130609  be7afe3c3888bdaf322f   \n",
       "130610  b0bf236fb7298811f4f6   \n",
       "130611  4ded8f8f0a7d662bc43e   \n",
       "130612  64f7c824cc2e2363c8c2   \n",
       "\n",
       "                                            question_text  target  \n",
       "0          What is the physical peak a human can achieve?       0  \n",
       "1             What is the society like in United Kingdom?       0  \n",
       "2       How should I deal with flight instructors who ...       0  \n",
       "3       Can you take credit for subconscious acts? And...       0  \n",
       "4       What master programs are taught in English in ...       0  \n",
       "...                                                   ...     ...  \n",
       "130608               How do you define a great spectacle?       0  \n",
       "130609  When will Quora stop so many utterly stupid qu...       1  \n",
       "130610    When did commercial jets start using autopilot?       0  \n",
       "130611          How many hate comments have you received?       0  \n",
       "130612                       What is meant by formatting?       0  \n",
       "\n",
       "[130613 rows x 3 columns]"
      ]
     },
     "execution_count": 20,
     "metadata": {},
     "output_type": "execute_result"
    }
   ],
   "source": [
    "val_df.reset_index(drop=True, inplace=True)\n",
    "val_df"
   ]
  },
  {
   "cell_type": "code",
   "execution_count": 21,
   "id": "bc226ba7-1e62-43e1-a882-0b5516415ef8",
   "metadata": {},
   "outputs": [],
   "source": [
    "# create a TF-IDF vectorizer and transform the training and validation data\n",
    "\n",
    "# vectorize to tf-idf vectors\n",
    "tfidf_vc = TfidfVectorizer(min_df = 10, max_features = 100000, analyzer = \"word\", ngram_range = (1, 2), stop_words = 'english', lowercase = True)\n",
    "train_vc = tfidf_vc.fit_transform(train_df[\"question_text\"])\n",
    "val_vc = tfidf_vc.transform(val_df[\"question_text\"])"
   ]
  },
  {
   "cell_type": "code",
   "execution_count": 22,
   "id": "c164afc3-a554-461c-a29f-a13051064719",
   "metadata": {},
   "outputs": [],
   "source": [
    "# train a logistic reg model on training data\n",
    "\n",
    "model = LogisticRegression(C=0.5,solver='sag')\n",
    "model = model.fit(train_vc, train_df.target)\n",
    "\n",
    "# predict on validation data\n",
    "val_pred = model.predict(val_vc)"
   ]
  },
  {
   "cell_type": "code",
   "execution_count": 23,
   "id": "17138c87-afdb-484f-b67f-1baefb55a018",
   "metadata": {},
   "outputs": [],
   "source": [
    "#  evaluation metrics\n",
    "from sklearn.metrics import accuracy_score, precision_score, recall_score, f1_score, confusion_matrix, classification_report\n",
    "\n",
    "accuracy = accuracy_score(val_df.target, val_pred)\n",
    "precision = precision_score(val_df.target, val_pred)\n",
    "recall = recall_score(val_df.target, val_pred)\n",
    "f1 = f1_score(val_df.target, val_pred)\n"
   ]
  },
  {
   "cell_type": "code",
   "execution_count": 24,
   "id": "4750c887-77e7-486a-8365-9dc8662b2747",
   "metadata": {},
   "outputs": [
    {
     "name": "stdout",
     "output_type": "stream",
     "text": [
      "Accuracy: 0.9504566926722455\n",
      "Precision: 0.6948633364750235\n",
      "Recall: 0.3629538461538461\n",
      "F1 Score: 0.4768372544263886\n"
     ]
    }
   ],
   "source": [
    "# Print evaluation metrics\n",
    "print(\"Accuracy:\", accuracy)\n",
    "print(\"Precision:\", precision)\n",
    "print(\"Recall:\", recall)\n",
    "print(\"F1 Score:\", f1)"
   ]
  },
  {
   "cell_type": "code",
   "execution_count": 25,
   "id": "615b6d29-41a3-4e31-9898-de5aa08b23df",
   "metadata": {},
   "outputs": [
    {
     "name": "stdout",
     "output_type": "stream",
     "text": [
      "Confusion Matrix:\n",
      " [[121193   1295]\n",
      " [  5176   2949]]\n"
     ]
    }
   ],
   "source": [
    "# Display confusion matrix\n",
    "conf_matrix = confusion_matrix(val_df.target, val_pred)\n",
    "print(\"Confusion Matrix:\\n\", conf_matrix)"
   ]
  },
  {
   "cell_type": "code",
   "execution_count": 26,
   "id": "863000cd-ca01-417e-b052-ebbc432d99fa",
   "metadata": {},
   "outputs": [
    {
     "name": "stdout",
     "output_type": "stream",
     "text": [
      "Classification Report:\n",
      "               precision    recall  f1-score   support\n",
      "\n",
      "     sincere       0.96      0.99      0.97    122488\n",
      "   insincere       0.69      0.36      0.48      8125\n",
      "\n",
      "    accuracy                           0.95    130613\n",
      "   macro avg       0.83      0.68      0.73    130613\n",
      "weighted avg       0.94      0.95      0.94    130613\n",
      "\n"
     ]
    }
   ],
   "source": [
    "# Display classification report\n",
    "# Define class names\n",
    "class_names = [\"sincere\", \"insincere\"]\n",
    "class_report = classification_report(val_df.target, val_pred, target_names=class_names)\n",
    "print(\"Classification Report:\\n\", class_report)"
   ]
  },
  {
   "cell_type": "code",
   "execution_count": null,
   "id": "40e63918-c2af-4ac6-b727-9cde854cd6ae",
   "metadata": {},
   "outputs": [],
   "source": []
  }
 ],
 "metadata": {
  "kernelspec": {
   "display_name": "Python (dlenv)",
   "language": "python",
   "name": "dlenv"
  },
  "language_info": {
   "codemirror_mode": {
    "name": "ipython",
    "version": 3
   },
   "file_extension": ".py",
   "mimetype": "text/x-python",
   "name": "python",
   "nbconvert_exporter": "python",
   "pygments_lexer": "ipython3",
   "version": "3.8.18"
  }
 },
 "nbformat": 4,
 "nbformat_minor": 5
}
