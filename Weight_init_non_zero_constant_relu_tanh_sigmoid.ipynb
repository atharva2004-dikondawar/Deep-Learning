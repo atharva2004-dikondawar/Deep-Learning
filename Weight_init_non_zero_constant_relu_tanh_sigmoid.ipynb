{
 "cells": [
  {
   "cell_type": "code",
   "execution_count": 1,
   "id": "12a6dd57-3c0e-4a1e-87fc-75d951f428de",
   "metadata": {},
   "outputs": [],
   "source": [
    "import numpy as np\n",
    "import pandas as pd\n",
    "import matplotlib.pyplot as plt"
   ]
  },
  {
   "cell_type": "code",
   "execution_count": 2,
   "id": "bba1ca10-2c1c-40ac-8e1b-65596bae8dc0",
   "metadata": {},
   "outputs": [],
   "source": [
    "df = pd.read_csv('ushape.csv')"
   ]
  },
  {
   "cell_type": "code",
   "execution_count": 3,
   "id": "ef5398b4-3d33-454c-802a-745dc4886ba8",
   "metadata": {},
   "outputs": [
    {
     "data": {
      "text/html": [
       "<div>\n",
       "<style scoped>\n",
       "    .dataframe tbody tr th:only-of-type {\n",
       "        vertical-align: middle;\n",
       "    }\n",
       "\n",
       "    .dataframe tbody tr th {\n",
       "        vertical-align: top;\n",
       "    }\n",
       "\n",
       "    .dataframe thead th {\n",
       "        text-align: right;\n",
       "    }\n",
       "</style>\n",
       "<table border=\"1\" class=\"dataframe\">\n",
       "  <thead>\n",
       "    <tr style=\"text-align: right;\">\n",
       "      <th></th>\n",
       "      <th>3.159499363321345566e-02</th>\n",
       "      <th>9.869877579082642072e-01</th>\n",
       "      <th>0.000000000000000000e+00</th>\n",
       "    </tr>\n",
       "  </thead>\n",
       "  <tbody>\n",
       "    <tr>\n",
       "      <th>0</th>\n",
       "      <td>2.115098</td>\n",
       "      <td>-0.046244</td>\n",
       "      <td>1.0</td>\n",
       "    </tr>\n",
       "    <tr>\n",
       "      <th>1</th>\n",
       "      <td>0.882490</td>\n",
       "      <td>-0.075756</td>\n",
       "      <td>0.0</td>\n",
       "    </tr>\n",
       "    <tr>\n",
       "      <th>2</th>\n",
       "      <td>-0.055144</td>\n",
       "      <td>-0.037332</td>\n",
       "      <td>1.0</td>\n",
       "    </tr>\n",
       "    <tr>\n",
       "      <th>3</th>\n",
       "      <td>0.829545</td>\n",
       "      <td>-0.539321</td>\n",
       "      <td>1.0</td>\n",
       "    </tr>\n",
       "    <tr>\n",
       "      <th>4</th>\n",
       "      <td>2.112857</td>\n",
       "      <td>0.662084</td>\n",
       "      <td>1.0</td>\n",
       "    </tr>\n",
       "  </tbody>\n",
       "</table>\n",
       "</div>"
      ],
      "text/plain": [
       "   3.159499363321345566e-02  9.869877579082642072e-01  \\\n",
       "0                  2.115098                 -0.046244   \n",
       "1                  0.882490                 -0.075756   \n",
       "2                 -0.055144                 -0.037332   \n",
       "3                  0.829545                 -0.539321   \n",
       "4                  2.112857                  0.662084   \n",
       "\n",
       "   0.000000000000000000e+00  \n",
       "0                       1.0  \n",
       "1                       0.0  \n",
       "2                       1.0  \n",
       "3                       1.0  \n",
       "4                       1.0  "
      ]
     },
     "execution_count": 3,
     "metadata": {},
     "output_type": "execute_result"
    }
   ],
   "source": [
    "df.head()"
   ]
  },
  {
   "cell_type": "code",
   "execution_count": 4,
   "id": "facc62e8-e693-4afc-ba5d-e3b8e7116511",
   "metadata": {},
   "outputs": [],
   "source": [
    "df['X'] = df['3.159499363321345566e-02']\n",
    "df['Y'] = df['9.869877579082642072e-01']\n",
    "df['Class'] = df['0.000000000000000000e+00']"
   ]
  },
  {
   "cell_type": "code",
   "execution_count": 5,
   "id": "5e2ef6e8-c9b9-4639-8628-f67bff1ff461",
   "metadata": {},
   "outputs": [
    {
     "data": {
      "text/html": [
       "<div>\n",
       "<style scoped>\n",
       "    .dataframe tbody tr th:only-of-type {\n",
       "        vertical-align: middle;\n",
       "    }\n",
       "\n",
       "    .dataframe tbody tr th {\n",
       "        vertical-align: top;\n",
       "    }\n",
       "\n",
       "    .dataframe thead th {\n",
       "        text-align: right;\n",
       "    }\n",
       "</style>\n",
       "<table border=\"1\" class=\"dataframe\">\n",
       "  <thead>\n",
       "    <tr style=\"text-align: right;\">\n",
       "      <th></th>\n",
       "      <th>3.159499363321345566e-02</th>\n",
       "      <th>9.869877579082642072e-01</th>\n",
       "      <th>0.000000000000000000e+00</th>\n",
       "      <th>X</th>\n",
       "      <th>Y</th>\n",
       "      <th>Class</th>\n",
       "    </tr>\n",
       "  </thead>\n",
       "  <tbody>\n",
       "    <tr>\n",
       "      <th>0</th>\n",
       "      <td>2.115098</td>\n",
       "      <td>-0.046244</td>\n",
       "      <td>1.0</td>\n",
       "      <td>2.115098</td>\n",
       "      <td>-0.046244</td>\n",
       "      <td>1.0</td>\n",
       "    </tr>\n",
       "    <tr>\n",
       "      <th>1</th>\n",
       "      <td>0.882490</td>\n",
       "      <td>-0.075756</td>\n",
       "      <td>0.0</td>\n",
       "      <td>0.882490</td>\n",
       "      <td>-0.075756</td>\n",
       "      <td>0.0</td>\n",
       "    </tr>\n",
       "    <tr>\n",
       "      <th>2</th>\n",
       "      <td>-0.055144</td>\n",
       "      <td>-0.037332</td>\n",
       "      <td>1.0</td>\n",
       "      <td>-0.055144</td>\n",
       "      <td>-0.037332</td>\n",
       "      <td>1.0</td>\n",
       "    </tr>\n",
       "    <tr>\n",
       "      <th>3</th>\n",
       "      <td>0.829545</td>\n",
       "      <td>-0.539321</td>\n",
       "      <td>1.0</td>\n",
       "      <td>0.829545</td>\n",
       "      <td>-0.539321</td>\n",
       "      <td>1.0</td>\n",
       "    </tr>\n",
       "    <tr>\n",
       "      <th>4</th>\n",
       "      <td>2.112857</td>\n",
       "      <td>0.662084</td>\n",
       "      <td>1.0</td>\n",
       "      <td>2.112857</td>\n",
       "      <td>0.662084</td>\n",
       "      <td>1.0</td>\n",
       "    </tr>\n",
       "  </tbody>\n",
       "</table>\n",
       "</div>"
      ],
      "text/plain": [
       "   3.159499363321345566e-02  9.869877579082642072e-01  \\\n",
       "0                  2.115098                 -0.046244   \n",
       "1                  0.882490                 -0.075756   \n",
       "2                 -0.055144                 -0.037332   \n",
       "3                  0.829545                 -0.539321   \n",
       "4                  2.112857                  0.662084   \n",
       "\n",
       "   0.000000000000000000e+00         X         Y  Class  \n",
       "0                       1.0  2.115098 -0.046244    1.0  \n",
       "1                       0.0  0.882490 -0.075756    0.0  \n",
       "2                       1.0 -0.055144 -0.037332    1.0  \n",
       "3                       1.0  0.829545 -0.539321    1.0  \n",
       "4                       1.0  2.112857  0.662084    1.0  "
      ]
     },
     "execution_count": 5,
     "metadata": {},
     "output_type": "execute_result"
    }
   ],
   "source": [
    "df.head()"
   ]
  },
  {
   "cell_type": "code",
   "execution_count": 6,
   "id": "a9168ea3-7056-4146-8a6f-d39422fc78f6",
   "metadata": {},
   "outputs": [],
   "source": [
    "df.drop(columns=['3.159499363321345566e-02','9.869877579082642072e-01','0.000000000000000000e+00'],inplace=True)"
   ]
  },
  {
   "cell_type": "code",
   "execution_count": 7,
   "id": "be912a54-9869-447a-8daa-7d1239737547",
   "metadata": {},
   "outputs": [
    {
     "data": {
      "text/html": [
       "<div>\n",
       "<style scoped>\n",
       "    .dataframe tbody tr th:only-of-type {\n",
       "        vertical-align: middle;\n",
       "    }\n",
       "\n",
       "    .dataframe tbody tr th {\n",
       "        vertical-align: top;\n",
       "    }\n",
       "\n",
       "    .dataframe thead th {\n",
       "        text-align: right;\n",
       "    }\n",
       "</style>\n",
       "<table border=\"1\" class=\"dataframe\">\n",
       "  <thead>\n",
       "    <tr style=\"text-align: right;\">\n",
       "      <th></th>\n",
       "      <th>X</th>\n",
       "      <th>Y</th>\n",
       "      <th>Class</th>\n",
       "    </tr>\n",
       "  </thead>\n",
       "  <tbody>\n",
       "    <tr>\n",
       "      <th>0</th>\n",
       "      <td>2.115098</td>\n",
       "      <td>-0.046244</td>\n",
       "      <td>1.0</td>\n",
       "    </tr>\n",
       "    <tr>\n",
       "      <th>1</th>\n",
       "      <td>0.882490</td>\n",
       "      <td>-0.075756</td>\n",
       "      <td>0.0</td>\n",
       "    </tr>\n",
       "    <tr>\n",
       "      <th>2</th>\n",
       "      <td>-0.055144</td>\n",
       "      <td>-0.037332</td>\n",
       "      <td>1.0</td>\n",
       "    </tr>\n",
       "    <tr>\n",
       "      <th>3</th>\n",
       "      <td>0.829545</td>\n",
       "      <td>-0.539321</td>\n",
       "      <td>1.0</td>\n",
       "    </tr>\n",
       "    <tr>\n",
       "      <th>4</th>\n",
       "      <td>2.112857</td>\n",
       "      <td>0.662084</td>\n",
       "      <td>1.0</td>\n",
       "    </tr>\n",
       "  </tbody>\n",
       "</table>\n",
       "</div>"
      ],
      "text/plain": [
       "          X         Y  Class\n",
       "0  2.115098 -0.046244    1.0\n",
       "1  0.882490 -0.075756    0.0\n",
       "2 -0.055144 -0.037332    1.0\n",
       "3  0.829545 -0.539321    1.0\n",
       "4  2.112857  0.662084    1.0"
      ]
     },
     "execution_count": 7,
     "metadata": {},
     "output_type": "execute_result"
    }
   ],
   "source": [
    "df.head()"
   ]
  },
  {
   "cell_type": "code",
   "execution_count": 8,
   "id": "9f917fd4-0674-4fa6-b543-189ce0bb9ffb",
   "metadata": {},
   "outputs": [
    {
     "data": {
      "text/plain": [
       "Class\n",
       "1.0    50\n",
       "0.0    49\n",
       "Name: count, dtype: int64"
      ]
     },
     "execution_count": 8,
     "metadata": {},
     "output_type": "execute_result"
    }
   ],
   "source": [
    "df['Class'].value_counts()"
   ]
  },
  {
   "cell_type": "code",
   "execution_count": 9,
   "id": "bdde8b0d-02d3-416b-b424-2294209c0096",
   "metadata": {},
   "outputs": [],
   "source": [
    "new_row = pd.DataFrame({'X':[0.031594],'Y':[0.986987],'Class':[0.0]})"
   ]
  },
  {
   "cell_type": "code",
   "execution_count": 10,
   "id": "5dc45744-cb7a-46d1-a5d5-fae39a3c5903",
   "metadata": {},
   "outputs": [],
   "source": [
    "df = pd.concat([df,new_row], ignore_index=True)"
   ]
  },
  {
   "cell_type": "code",
   "execution_count": 11,
   "id": "ce8fe9f1-ceb4-4ccc-ae05-44d98bbb1c58",
   "metadata": {},
   "outputs": [
    {
     "data": {
      "text/plain": [
       "(100, 3)"
      ]
     },
     "execution_count": 11,
     "metadata": {},
     "output_type": "execute_result"
    }
   ],
   "source": [
    "df.shape"
   ]
  },
  {
   "cell_type": "code",
   "execution_count": 12,
   "id": "f2cf9cc6-1edb-4603-8963-a1486283a1bb",
   "metadata": {},
   "outputs": [
    {
     "data": {
      "text/html": [
       "<div>\n",
       "<style scoped>\n",
       "    .dataframe tbody tr th:only-of-type {\n",
       "        vertical-align: middle;\n",
       "    }\n",
       "\n",
       "    .dataframe tbody tr th {\n",
       "        vertical-align: top;\n",
       "    }\n",
       "\n",
       "    .dataframe thead th {\n",
       "        text-align: right;\n",
       "    }\n",
       "</style>\n",
       "<table border=\"1\" class=\"dataframe\">\n",
       "  <thead>\n",
       "    <tr style=\"text-align: right;\">\n",
       "      <th></th>\n",
       "      <th>X</th>\n",
       "      <th>Y</th>\n",
       "      <th>Class</th>\n",
       "    </tr>\n",
       "  </thead>\n",
       "  <tbody>\n",
       "    <tr>\n",
       "      <th>0</th>\n",
       "      <td>2.115098</td>\n",
       "      <td>-0.046244</td>\n",
       "      <td>1.0</td>\n",
       "    </tr>\n",
       "    <tr>\n",
       "      <th>1</th>\n",
       "      <td>0.882490</td>\n",
       "      <td>-0.075756</td>\n",
       "      <td>0.0</td>\n",
       "    </tr>\n",
       "    <tr>\n",
       "      <th>2</th>\n",
       "      <td>-0.055144</td>\n",
       "      <td>-0.037332</td>\n",
       "      <td>1.0</td>\n",
       "    </tr>\n",
       "    <tr>\n",
       "      <th>3</th>\n",
       "      <td>0.829545</td>\n",
       "      <td>-0.539321</td>\n",
       "      <td>1.0</td>\n",
       "    </tr>\n",
       "    <tr>\n",
       "      <th>4</th>\n",
       "      <td>2.112857</td>\n",
       "      <td>0.662084</td>\n",
       "      <td>1.0</td>\n",
       "    </tr>\n",
       "  </tbody>\n",
       "</table>\n",
       "</div>"
      ],
      "text/plain": [
       "          X         Y  Class\n",
       "0  2.115098 -0.046244    1.0\n",
       "1  0.882490 -0.075756    0.0\n",
       "2 -0.055144 -0.037332    1.0\n",
       "3  0.829545 -0.539321    1.0\n",
       "4  2.112857  0.662084    1.0"
      ]
     },
     "execution_count": 12,
     "metadata": {},
     "output_type": "execute_result"
    }
   ],
   "source": [
    "df.head()"
   ]
  },
  {
   "cell_type": "code",
   "execution_count": 13,
   "id": "84578357-587d-4510-a098-a1bf8da8a8a4",
   "metadata": {},
   "outputs": [
    {
     "data": {
      "image/png": "[encoded data removed]",
      "text/plain": [
       "<Figure size 640x480 with 1 Axes>"
      ]
     },
     "metadata": {},
     "output_type": "display_data"
    }
   ],
   "source": [
    "plt.scatter(df['X'],df['Y'],c=df['Class'])\n",
    "plt.show()"
   ]
  },
  {
   "cell_type": "code",
   "execution_count": 14,
   "id": "3dcbec3a-b76b-4e2a-a44d-997bf48c260d",
   "metadata": {},
   "outputs": [],
   "source": [
    "x = df.iloc[:,0:2].values\n",
    "y = df.iloc[:,-1].values"
   ]
  },
  {
   "cell_type": "code",
   "execution_count": 15,
   "id": "1746d1f8-6d27-4f4d-adcb-4e3ff7f8bfb8",
   "metadata": {},
   "outputs": [],
   "source": [
    "import tensorflow as tf\n",
    "from tensorflow import keras\n",
    "from keras import Sequential\n",
    "from keras.layers import Dense"
   ]
  },
  {
   "cell_type": "code",
   "execution_count": 32,
   "id": "57c310e6-b975-44aa-8bf6-69c37817f751",
   "metadata": {},
   "outputs": [
    {
     "name": "stdout",
     "output_type": "stream",
     "text": [
      "Model: \"sequential_2\"\n",
      "_________________________________________________________________\n",
      " Layer (type)                Output Shape              Param #   \n",
      "=================================================================\n",
      " dense_4 (Dense)             (None, 10)                30        \n",
      "                                                                 \n",
      " dense_5 (Dense)             (None, 1)                 11        \n",
      "                                                                 \n",
      "=================================================================\n",
      "Total params: 41\n",
      "Trainable params: 41\n",
      "Non-trainable params: 0\n",
      "_________________________________________________________________\n"
     ]
    }
   ],
   "source": [
    "model = Sequential()\n",
    "\n",
    "model.add(Dense(10, activation='tanh',input_dim=2))\n",
    "model.add(Dense(1, activation='sigmoid'))\n",
    "\n",
    "model.summary()"
   ]
  },
  {
   "cell_type": "code",
   "execution_count": 33,
   "id": "7d7bdb1c-1195-4b42-89cb-83c8af230407",
   "metadata": {},
   "outputs": [
    {
     "data": {
      "text/plain": [
       "[array([[ 0.513138  , -0.31897914, -0.4533352 , -0.62507415, -0.08472323,\n",
       "         -0.19107139, -0.62498194,  0.07444853, -0.03388387,  0.30845135],\n",
       "        [ 0.4351917 ,  0.43354064,  0.3179757 , -0.6854274 , -0.46113944,\n",
       "          0.61924475,  0.24203521, -0.02835977, -0.32071728, -0.00311178]],\n",
       "       dtype=float32),\n",
       " array([0., 0., 0., 0., 0., 0., 0., 0., 0., 0.], dtype=float32),\n",
       " array([[-0.14209348],\n",
       "        [-0.18290442],\n",
       "        [ 0.49443752],\n",
       "        [-0.3477197 ],\n",
       "        [-0.08022606],\n",
       "        [ 0.17864245],\n",
       "        [-0.20433748],\n",
       "        [ 0.21070522],\n",
       "        [ 0.54423445],\n",
       "        [-0.26773134]], dtype=float32),\n",
       " array([0.], dtype=float32)]"
      ]
     },
     "execution_count": 33,
     "metadata": {},
     "output_type": "execute_result"
    }
   ],
   "source": [
    "model.get_weights()"
   ]
  },
  {
   "cell_type": "code",
   "execution_count": 34,
   "id": "735a1ab2-1083-46fd-9851-92f82431fd05",
   "metadata": {},
   "outputs": [],
   "source": [
    "initial_weights = model.get_weights()"
   ]
  },
  {
   "cell_type": "code",
   "execution_count": 35,
   "id": "08ba9638-29e7-4f4d-b7e5-55617ff22015",
   "metadata": {},
   "outputs": [],
   "source": [
    "initial_weights[0] = np.ones(model.get_weights()[0].shape)*0.5\n",
    "initial_weights[1] = np.ones(model.get_weights()[1].shape)*0.5\n",
    "initial_weights[2] = np.ones(model.get_weights()[2].shape)*0.5\n",
    "initial_weights[3] = np.ones(model.get_weights()[3].shape)*0.5"
   ]
  },
  {
   "cell_type": "code",
   "execution_count": 36,
   "id": "304ccce0-45e8-4861-922c-a3e37840122e",
   "metadata": {},
   "outputs": [],
   "source": [
    "model.set_weights(initial_weights)"
   ]
  },
  {
   "cell_type": "code",
   "execution_count": 37,
   "id": "ecc27a06-6ae6-4247-88e2-51c689c1a990",
   "metadata": {},
   "outputs": [
    {
     "data": {
      "text/plain": [
       "[array([[0.5, 0.5, 0.5, 0.5, 0.5, 0.5, 0.5, 0.5, 0.5, 0.5],\n",
       "        [0.5, 0.5, 0.5, 0.5, 0.5, 0.5, 0.5, 0.5, 0.5, 0.5]], dtype=float32),\n",
       " array([0.5, 0.5, 0.5, 0.5, 0.5, 0.5, 0.5, 0.5, 0.5, 0.5], dtype=float32),\n",
       " array([[0.5],\n",
       "        [0.5],\n",
       "        [0.5],\n",
       "        [0.5],\n",
       "        [0.5],\n",
       "        [0.5],\n",
       "        [0.5],\n",
       "        [0.5],\n",
       "        [0.5],\n",
       "        [0.5]], dtype=float32),\n",
       " array([0.5], dtype=float32)]"
      ]
     },
     "execution_count": 37,
     "metadata": {},
     "output_type": "execute_result"
    }
   ],
   "source": [
    "model.get_weights()"
   ]
  },
  {
   "cell_type": "code",
   "execution_count": 38,
   "id": "604ae45b-555b-4388-920b-deadfd417155",
   "metadata": {},
   "outputs": [],
   "source": [
    "model.compile(loss='binary_crossentropy',optimizer='adam',metrics=['accuracy'])"
   ]
  },
  {
   "cell_type": "code",
   "execution_count": 39,
   "id": "ed7385be-a317-4740-aa3e-9744a5c8bdcc",
   "metadata": {},
   "outputs": [
    {
     "name": "stdout",
     "output_type": "stream",
     "text": [
      "Epoch 1/100\n",
      "3/3 [==============================] - 0s 79ms/step - loss: 1.9157 - accuracy: 0.5000 - val_loss: 1.4421 - val_accuracy: 0.5500\n",
      "Epoch 2/100\n",
      "3/3 [==============================] - 0s 16ms/step - loss: 1.9002 - accuracy: 0.5000 - val_loss: 1.4283 - val_accuracy: 0.5500\n",
      "Epoch 3/100\n",
      "3/3 [==============================] - 0s 15ms/step - loss: 1.8850 - accuracy: 0.5000 - val_loss: 1.4146 - val_accuracy: 0.5500\n",
      "Epoch 4/100\n",
      "3/3 [==============================] - 0s 16ms/step - loss: 1.8692 - accuracy: 0.5000 - val_loss: 1.4009 - val_accuracy: 0.5500\n",
      "Epoch 5/100\n",
      "3/3 [==============================] - 0s 17ms/step - loss: 1.8545 - accuracy: 0.5000 - val_loss: 1.3872 - val_accuracy: 0.5500\n",
      "Epoch 6/100\n",
      "3/3 [==============================] - 0s 15ms/step - loss: 1.8394 - accuracy: 0.5000 - val_loss: 1.3737 - val_accuracy: 0.5500\n",
      "Epoch 7/100\n",
      "3/3 [==============================] - 0s 15ms/step - loss: 1.8237 - accuracy: 0.5000 - val_loss: 1.3604 - val_accuracy: 0.5500\n",
      "Epoch 8/100\n",
      "3/3 [==============================] - 0s 14ms/step - loss: 1.8084 - accuracy: 0.5000 - val_loss: 1.3472 - val_accuracy: 0.5500\n",
      "Epoch 9/100\n",
      "3/3 [==============================] - 0s 15ms/step - loss: 1.7941 - accuracy: 0.5000 - val_loss: 1.3340 - val_accuracy: 0.6000\n",
      "Epoch 10/100\n",
      "3/3 [==============================] - 0s 14ms/step - loss: 1.7789 - accuracy: 0.5000 - val_loss: 1.3212 - val_accuracy: 0.6000\n",
      "Epoch 11/100\n",
      "3/3 [==============================] - 0s 14ms/step - loss: 1.7636 - accuracy: 0.5000 - val_loss: 1.3086 - val_accuracy: 0.6000\n",
      "Epoch 12/100\n",
      "3/3 [==============================] - 0s 14ms/step - loss: 1.7498 - accuracy: 0.5000 - val_loss: 1.2959 - val_accuracy: 0.6000\n",
      "Epoch 13/100\n",
      "3/3 [==============================] - 0s 14ms/step - loss: 1.7350 - accuracy: 0.5000 - val_loss: 1.2833 - val_accuracy: 0.6000\n",
      "Epoch 14/100\n",
      "3/3 [==============================] - 0s 15ms/step - loss: 1.7215 - accuracy: 0.5125 - val_loss: 1.2707 - val_accuracy: 0.6000\n",
      "Epoch 15/100\n",
      "3/3 [==============================] - 0s 14ms/step - loss: 1.7063 - accuracy: 0.5125 - val_loss: 1.2584 - val_accuracy: 0.6000\n",
      "Epoch 16/100\n",
      "3/3 [==============================] - 0s 14ms/step - loss: 1.6918 - accuracy: 0.5125 - val_loss: 1.2463 - val_accuracy: 0.6000\n",
      "Epoch 17/100\n",
      "3/3 [==============================] - 0s 14ms/step - loss: 1.6784 - accuracy: 0.5125 - val_loss: 1.2341 - val_accuracy: 0.6000\n",
      "Epoch 18/100\n",
      "3/3 [==============================] - 0s 14ms/step - loss: 1.6642 - accuracy: 0.5125 - val_loss: 1.2221 - val_accuracy: 0.6000\n",
      "Epoch 19/100\n",
      "3/3 [==============================] - 0s 14ms/step - loss: 1.6495 - accuracy: 0.5125 - val_loss: 1.2101 - val_accuracy: 0.6000\n",
      "Epoch 20/100\n",
      "3/3 [==============================] - 0s 15ms/step - loss: 1.6359 - accuracy: 0.5125 - val_loss: 1.1985 - val_accuracy: 0.6000\n",
      "Epoch 21/100\n",
      "3/3 [==============================] - 0s 15ms/step - loss: 1.6225 - accuracy: 0.5125 - val_loss: 1.1870 - val_accuracy: 0.6000\n",
      "Epoch 22/100\n",
      "3/3 [==============================] - 0s 15ms/step - loss: 1.6084 - accuracy: 0.5125 - val_loss: 1.1760 - val_accuracy: 0.6000\n",
      "Epoch 23/100\n",
      "3/3 [==============================] - 0s 14ms/step - loss: 1.5942 - accuracy: 0.5125 - val_loss: 1.1648 - val_accuracy: 0.6000\n",
      "Epoch 24/100\n",
      "3/3 [==============================] - 0s 14ms/step - loss: 1.5817 - accuracy: 0.5125 - val_loss: 1.1534 - val_accuracy: 0.6000\n",
      "Epoch 25/100\n",
      "3/3 [==============================] - 0s 14ms/step - loss: 1.5683 - accuracy: 0.5125 - val_loss: 1.1423 - val_accuracy: 0.6000\n",
      "Epoch 26/100\n",
      "3/3 [==============================] - 0s 14ms/step - loss: 1.5543 - accuracy: 0.5125 - val_loss: 1.1315 - val_accuracy: 0.6500\n",
      "Epoch 27/100\n",
      "3/3 [==============================] - 0s 15ms/step - loss: 1.5410 - accuracy: 0.5125 - val_loss: 1.1208 - val_accuracy: 0.6500\n",
      "Epoch 28/100\n",
      "3/3 [==============================] - 0s 14ms/step - loss: 1.5279 - accuracy: 0.5125 - val_loss: 1.1103 - val_accuracy: 0.6500\n",
      "Epoch 29/100\n",
      "3/3 [==============================] - 0s 14ms/step - loss: 1.5149 - accuracy: 0.5250 - val_loss: 1.1000 - val_accuracy: 0.6500\n",
      "Epoch 30/100\n",
      "3/3 [==============================] - 0s 15ms/step - loss: 1.5015 - accuracy: 0.5250 - val_loss: 1.0900 - val_accuracy: 0.6500\n",
      "Epoch 31/100\n",
      "3/3 [==============================] - 0s 14ms/step - loss: 1.4887 - accuracy: 0.5250 - val_loss: 1.0799 - val_accuracy: 0.6500\n",
      "Epoch 32/100\n",
      "3/3 [==============================] - 0s 16ms/step - loss: 1.4756 - accuracy: 0.5250 - val_loss: 1.0699 - val_accuracy: 0.6500\n",
      "Epoch 33/100\n",
      "3/3 [==============================] - 0s 15ms/step - loss: 1.4632 - accuracy: 0.5250 - val_loss: 1.0600 - val_accuracy: 0.6500\n",
      "Epoch 34/100\n",
      "3/3 [==============================] - 0s 15ms/step - loss: 1.4508 - accuracy: 0.5250 - val_loss: 1.0502 - val_accuracy: 0.6500\n",
      "Epoch 35/100\n",
      "3/3 [==============================] - 0s 15ms/step - loss: 1.4383 - accuracy: 0.5250 - val_loss: 1.0405 - val_accuracy: 0.6500\n",
      "Epoch 36/100\n",
      "3/3 [==============================] - 0s 15ms/step - loss: 1.4259 - accuracy: 0.5250 - val_loss: 1.0310 - val_accuracy: 0.6500\n",
      "Epoch 37/100\n",
      "3/3 [==============================] - 0s 15ms/step - loss: 1.4136 - accuracy: 0.5250 - val_loss: 1.0219 - val_accuracy: 0.6500\n",
      "Epoch 38/100\n",
      "3/3 [==============================] - 0s 15ms/step - loss: 1.4018 - accuracy: 0.5375 - val_loss: 1.0129 - val_accuracy: 0.6500\n",
      "Epoch 39/100\n",
      "3/3 [==============================] - 0s 15ms/step - loss: 1.3897 - accuracy: 0.5375 - val_loss: 1.0040 - val_accuracy: 0.6500\n",
      "Epoch 40/100\n",
      "3/3 [==============================] - 0s 15ms/step - loss: 1.3782 - accuracy: 0.5375 - val_loss: 0.9952 - val_accuracy: 0.6500\n",
      "Epoch 41/100\n",
      "3/3 [==============================] - 0s 15ms/step - loss: 1.3668 - accuracy: 0.5375 - val_loss: 0.9866 - val_accuracy: 0.6500\n",
      "Epoch 42/100\n",
      "3/3 [==============================] - 0s 15ms/step - loss: 1.3552 - accuracy: 0.5375 - val_loss: 0.9781 - val_accuracy: 0.6500\n",
      "Epoch 43/100\n",
      "3/3 [==============================] - 0s 14ms/step - loss: 1.3436 - accuracy: 0.5375 - val_loss: 0.9696 - val_accuracy: 0.6500\n",
      "Epoch 44/100\n",
      "3/3 [==============================] - 0s 15ms/step - loss: 1.3324 - accuracy: 0.5375 - val_loss: 0.9611 - val_accuracy: 0.6500\n",
      "Epoch 45/100\n",
      "3/3 [==============================] - 0s 15ms/step - loss: 1.3214 - accuracy: 0.5375 - val_loss: 0.9528 - val_accuracy: 0.6500\n",
      "Epoch 46/100\n",
      "3/3 [==============================] - 0s 47ms/step - loss: 1.3094 - accuracy: 0.5375 - val_loss: 0.9447 - val_accuracy: 0.6500\n",
      "Epoch 47/100\n",
      "3/3 [==============================] - 0s 22ms/step - loss: 1.2989 - accuracy: 0.5375 - val_loss: 0.9365 - val_accuracy: 0.6500\n",
      "Epoch 48/100\n",
      "3/3 [==============================] - 0s 16ms/step - loss: 1.2868 - accuracy: 0.5375 - val_loss: 0.9288 - val_accuracy: 0.6500\n",
      "Epoch 49/100\n",
      "3/3 [==============================] - 0s 15ms/step - loss: 1.2765 - accuracy: 0.5500 - val_loss: 0.9209 - val_accuracy: 0.6500\n",
      "Epoch 50/100\n",
      "3/3 [==============================] - 0s 15ms/step - loss: 1.2654 - accuracy: 0.5500 - val_loss: 0.9131 - val_accuracy: 0.6500\n",
      "Epoch 51/100\n",
      "3/3 [==============================] - 0s 14ms/step - loss: 1.2548 - accuracy: 0.5500 - val_loss: 0.9053 - val_accuracy: 0.6500\n",
      "Epoch 52/100\n",
      "3/3 [==============================] - 0s 15ms/step - loss: 1.2445 - accuracy: 0.5625 - val_loss: 0.8976 - val_accuracy: 0.6500\n",
      "Epoch 53/100\n",
      "3/3 [==============================] - 0s 14ms/step - loss: 1.2334 - accuracy: 0.5625 - val_loss: 0.8902 - val_accuracy: 0.6500\n",
      "Epoch 54/100\n",
      "3/3 [==============================] - 0s 15ms/step - loss: 1.2230 - accuracy: 0.5625 - val_loss: 0.8829 - val_accuracy: 0.6500\n",
      "Epoch 55/100\n",
      "3/3 [==============================] - 0s 14ms/step - loss: 1.2129 - accuracy: 0.5625 - val_loss: 0.8757 - val_accuracy: 0.6500\n",
      "Epoch 56/100\n",
      "3/3 [==============================] - 0s 15ms/step - loss: 1.2026 - accuracy: 0.5625 - val_loss: 0.8687 - val_accuracy: 0.6500\n",
      "Epoch 57/100\n",
      "3/3 [==============================] - 0s 14ms/step - loss: 1.1926 - accuracy: 0.5625 - val_loss: 0.8618 - val_accuracy: 0.6500\n",
      "Epoch 58/100\n",
      "3/3 [==============================] - 0s 14ms/step - loss: 1.1830 - accuracy: 0.5625 - val_loss: 0.8550 - val_accuracy: 0.6500\n",
      "Epoch 59/100\n",
      "3/3 [==============================] - 0s 14ms/step - loss: 1.1730 - accuracy: 0.5625 - val_loss: 0.8483 - val_accuracy: 0.6500\n",
      "Epoch 60/100\n",
      "3/3 [==============================] - 0s 15ms/step - loss: 1.1638 - accuracy: 0.5625 - val_loss: 0.8418 - val_accuracy: 0.6500\n",
      "Epoch 61/100\n",
      "3/3 [==============================] - 0s 14ms/step - loss: 1.1550 - accuracy: 0.5625 - val_loss: 0.8353 - val_accuracy: 0.6500\n",
      "Epoch 62/100\n",
      "3/3 [==============================] - 0s 15ms/step - loss: 1.1452 - accuracy: 0.5625 - val_loss: 0.8290 - val_accuracy: 0.6500\n",
      "Epoch 63/100\n",
      "3/3 [==============================] - 0s 14ms/step - loss: 1.1358 - accuracy: 0.5625 - val_loss: 0.8229 - val_accuracy: 0.6500\n",
      "Epoch 64/100\n",
      "3/3 [==============================] - 0s 14ms/step - loss: 1.1270 - accuracy: 0.5625 - val_loss: 0.8170 - val_accuracy: 0.6500\n",
      "Epoch 65/100\n",
      "3/3 [==============================] - 0s 15ms/step - loss: 1.1184 - accuracy: 0.5625 - val_loss: 0.8110 - val_accuracy: 0.6500\n",
      "Epoch 66/100\n",
      "3/3 [==============================] - 0s 14ms/step - loss: 1.1098 - accuracy: 0.5625 - val_loss: 0.8051 - val_accuracy: 0.6500\n",
      "Epoch 67/100\n",
      "3/3 [==============================] - 0s 14ms/step - loss: 1.1009 - accuracy: 0.5625 - val_loss: 0.7993 - val_accuracy: 0.6500\n",
      "Epoch 68/100\n",
      "3/3 [==============================] - 0s 15ms/step - loss: 1.0922 - accuracy: 0.5625 - val_loss: 0.7937 - val_accuracy: 0.6500\n",
      "Epoch 69/100\n",
      "3/3 [==============================] - 0s 15ms/step - loss: 1.0840 - accuracy: 0.5625 - val_loss: 0.7881 - val_accuracy: 0.6500\n",
      "Epoch 70/100\n",
      "3/3 [==============================] - 0s 14ms/step - loss: 1.0755 - accuracy: 0.5625 - val_loss: 0.7826 - val_accuracy: 0.6500\n",
      "Epoch 71/100\n",
      "3/3 [==============================] - 0s 15ms/step - loss: 1.0673 - accuracy: 0.5625 - val_loss: 0.7773 - val_accuracy: 0.6500\n",
      "Epoch 72/100\n",
      "3/3 [==============================] - 0s 15ms/step - loss: 1.0593 - accuracy: 0.5625 - val_loss: 0.7722 - val_accuracy: 0.6500\n",
      "Epoch 73/100\n",
      "3/3 [==============================] - 0s 15ms/step - loss: 1.0512 - accuracy: 0.5625 - val_loss: 0.7671 - val_accuracy: 0.6500\n",
      "Epoch 74/100\n",
      "3/3 [==============================] - 0s 15ms/step - loss: 1.0433 - accuracy: 0.5625 - val_loss: 0.7621 - val_accuracy: 0.6500\n",
      "Epoch 75/100\n",
      "3/3 [==============================] - 0s 14ms/step - loss: 1.0358 - accuracy: 0.5625 - val_loss: 0.7570 - val_accuracy: 0.6500\n",
      "Epoch 76/100\n",
      "3/3 [==============================] - 0s 16ms/step - loss: 1.0279 - accuracy: 0.5750 - val_loss: 0.7522 - val_accuracy: 0.6500\n",
      "Epoch 77/100\n",
      "3/3 [==============================] - 0s 15ms/step - loss: 1.0203 - accuracy: 0.5750 - val_loss: 0.7474 - val_accuracy: 0.6500\n",
      "Epoch 78/100\n",
      "3/3 [==============================] - 0s 14ms/step - loss: 1.0129 - accuracy: 0.5750 - val_loss: 0.7427 - val_accuracy: 0.6500\n",
      "Epoch 79/100\n",
      "3/3 [==============================] - 0s 15ms/step - loss: 1.0054 - accuracy: 0.5750 - val_loss: 0.7381 - val_accuracy: 0.6500\n",
      "Epoch 80/100\n",
      "3/3 [==============================] - 0s 15ms/step - loss: 0.9982 - accuracy: 0.5750 - val_loss: 0.7336 - val_accuracy: 0.6500\n",
      "Epoch 81/100\n",
      "3/3 [==============================] - 0s 15ms/step - loss: 0.9913 - accuracy: 0.5750 - val_loss: 0.7291 - val_accuracy: 0.6500\n",
      "Epoch 82/100\n",
      "3/3 [==============================] - 0s 15ms/step - loss: 0.9840 - accuracy: 0.5750 - val_loss: 0.7248 - val_accuracy: 0.6500\n",
      "Epoch 83/100\n",
      "3/3 [==============================] - 0s 15ms/step - loss: 0.9763 - accuracy: 0.5750 - val_loss: 0.7206 - val_accuracy: 0.6500\n",
      "Epoch 84/100\n",
      "3/3 [==============================] - 0s 14ms/step - loss: 0.9700 - accuracy: 0.5750 - val_loss: 0.7164 - val_accuracy: 0.6500\n",
      "Epoch 85/100\n",
      "3/3 [==============================] - 0s 15ms/step - loss: 0.9633 - accuracy: 0.5750 - val_loss: 0.7124 - val_accuracy: 0.6500\n",
      "Epoch 86/100\n",
      "3/3 [==============================] - 0s 15ms/step - loss: 0.9565 - accuracy: 0.5750 - val_loss: 0.7084 - val_accuracy: 0.6500\n",
      "Epoch 87/100\n",
      "3/3 [==============================] - 0s 15ms/step - loss: 0.9497 - accuracy: 0.5750 - val_loss: 0.7046 - val_accuracy: 0.6500\n",
      "Epoch 88/100\n",
      "3/3 [==============================] - 0s 14ms/step - loss: 0.9434 - accuracy: 0.5750 - val_loss: 0.7007 - val_accuracy: 0.6500\n",
      "Epoch 89/100\n",
      "3/3 [==============================] - 0s 15ms/step - loss: 0.9375 - accuracy: 0.5750 - val_loss: 0.6969 - val_accuracy: 0.6500\n",
      "Epoch 90/100\n",
      "3/3 [==============================] - 0s 14ms/step - loss: 0.9309 - accuracy: 0.5750 - val_loss: 0.6932 - val_accuracy: 0.6500\n",
      "Epoch 91/100\n",
      "3/3 [==============================] - 0s 14ms/step - loss: 0.9247 - accuracy: 0.5750 - val_loss: 0.6896 - val_accuracy: 0.6500\n",
      "Epoch 92/100\n",
      "3/3 [==============================] - 0s 15ms/step - loss: 0.9189 - accuracy: 0.5750 - val_loss: 0.6861 - val_accuracy: 0.6500\n",
      "Epoch 93/100\n",
      "3/3 [==============================] - 0s 15ms/step - loss: 0.9133 - accuracy: 0.5750 - val_loss: 0.6827 - val_accuracy: 0.6500\n",
      "Epoch 94/100\n",
      "3/3 [==============================] - 0s 14ms/step - loss: 0.9074 - accuracy: 0.5750 - val_loss: 0.6793 - val_accuracy: 0.6500\n",
      "Epoch 95/100\n",
      "3/3 [==============================] - 0s 14ms/step - loss: 0.9019 - accuracy: 0.5750 - val_loss: 0.6760 - val_accuracy: 0.7000\n",
      "Epoch 96/100\n",
      "3/3 [==============================] - 0s 14ms/step - loss: 0.8968 - accuracy: 0.5750 - val_loss: 0.6728 - val_accuracy: 0.7000\n",
      "Epoch 97/100\n",
      "3/3 [==============================] - 0s 14ms/step - loss: 0.8913 - accuracy: 0.5750 - val_loss: 0.6698 - val_accuracy: 0.7000\n",
      "Epoch 98/100\n",
      "3/3 [==============================] - 0s 15ms/step - loss: 0.8855 - accuracy: 0.5750 - val_loss: 0.6668 - val_accuracy: 0.7000\n",
      "Epoch 99/100\n",
      "3/3 [==============================] - 0s 15ms/step - loss: 0.8806 - accuracy: 0.5750 - val_loss: 0.6639 - val_accuracy: 0.7000\n",
      "Epoch 100/100\n",
      "3/3 [==============================] - 0s 15ms/step - loss: 0.8757 - accuracy: 0.5750 - val_loss: 0.6610 - val_accuracy: 0.7000\n"
     ]
    }
   ],
   "source": [
    "history = model.fit(x,y,epochs=100,validation_split=0.2,verbose=True)"
   ]
  },
  {
   "cell_type": "code",
   "execution_count": 40,
   "id": "ca689bf5-2cee-4185-bdbe-7cfbe122a2b9",
   "metadata": {},
   "outputs": [
    {
     "data": {
      "text/plain": [
       "[array([[0.53772455, 0.53772455, 0.53772455, 0.53772455, 0.53772455,\n",
       "         0.53772455, 0.53772455, 0.53772455, 0.53772455, 0.53772455],\n",
       "        [0.2229094 , 0.2229094 , 0.2229094 , 0.2229094 , 0.2229094 ,\n",
       "         0.2229094 , 0.2229094 , 0.2229094 , 0.2229094 , 0.2229094 ]],\n",
       "       dtype=float32),\n",
       " array([0.24934983, 0.24934983, 0.24934983, 0.24934983, 0.24934983,\n",
       "        0.24934983, 0.24934983, 0.24934983, 0.24934983, 0.24934983],\n",
       "       dtype=float32),\n",
       " array([[0.2502146],\n",
       "        [0.2502146],\n",
       "        [0.2502146],\n",
       "        [0.2502146],\n",
       "        [0.2502146],\n",
       "        [0.2502146],\n",
       "        [0.2502146],\n",
       "        [0.2502146],\n",
       "        [0.2502146],\n",
       "        [0.2502146]], dtype=float32),\n",
       " array([0.23011874], dtype=float32)]"
      ]
     },
     "execution_count": 40,
     "metadata": {},
     "output_type": "execute_result"
    }
   ],
   "source": [
    "model.get_weights()"
   ]
  },
  {
   "cell_type": "code",
   "execution_count": 41,
   "id": "abcd35aa-0b8b-4882-bb09-e012d0403750",
   "metadata": {},
   "outputs": [
    {
     "name": "stdout",
     "output_type": "stream",
     "text": [
      "9600/9600 [==============================] - 7s 738us/step\n"
     ]
    },
    {
     "data": {
      "text/plain": [
       "<Axes: >"
      ]
     },
     "execution_count": 41,
     "metadata": {},
     "output_type": "execute_result"
    },
    {
     "data": {
      "image/png": "[encoded data removed]",
      "text/plain": [
       "<Figure size 640x480 with 1 Axes>"
      ]
     },
     "metadata": {},
     "output_type": "display_data"
    }
   ],
   "source": [
    "from mlxtend.plotting import plot_decision_regions\n",
    "plot_decision_regions(x,y.astype('int'), clf=model, legend=2)"
   ]
  },
  {
   "cell_type": "code",
   "execution_count": null,
   "id": "5b242d44-9b98-4011-92c1-6b770fde73da",
   "metadata": {},
   "outputs": [],
   "source": []
  }
 ],
 "metadata": {
  "kernelspec": {
   "display_name": "Python (dlenv)",
   "language": "python",
   "name": "dlenv"
  },
  "language_info": {
   "codemirror_mode": {
    "name": "ipython",
    "version": 3
   },
   "file_extension": ".py",
   "mimetype": "text/x-python",
   "name": "python",
   "nbconvert_exporter": "python",
   "pygments_lexer": "ipython3",
   "version": "3.8.18"
  }
 },
 "nbformat": 4,
 "nbformat_minor": 5
}
